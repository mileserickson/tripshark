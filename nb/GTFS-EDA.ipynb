{
 "cells": [
  {
   "cell_type": "code",
   "execution_count": 1,
   "metadata": {
    "ExecuteTime": {
     "end_time": "2016-04-15T15:34:37.365521",
     "start_time": "2016-04-15T15:34:37.243557"
    },
    "collapsed": false
   },
   "outputs": [
    {
     "name": "stdout",
     "output_type": "stream",
     "text": [
      "/Users/miles/proj/tripshark/nb\r\n"
     ]
    }
   ],
   "source": [
    "!pwd"
   ]
  },
  {
   "cell_type": "code",
   "execution_count": 2,
   "metadata": {
    "ExecuteTime": {
     "end_time": "2016-04-15T15:35:02.101117",
     "start_time": "2016-04-15T15:35:01.976079"
    },
    "collapsed": false
   },
   "outputs": [
    {
     "name": "stdout",
     "output_type": "stream",
     "text": [
      "     227    1363   23818 ../data/1_gtfs/routes.txt\r\n"
     ]
    }
   ],
   "source": [
    "!wc ../data/1_gtfs/routes.txt"
   ]
  },
  {
   "cell_type": "code",
   "execution_count": 4,
   "metadata": {
    "ExecuteTime": {
     "end_time": "2016-04-15T15:35:16.658662",
     "start_time": "2016-04-15T15:35:16.640248"
    },
    "collapsed": true
   },
   "outputs": [],
   "source": [
    "import pandas as pd"
   ]
  },
  {
   "cell_type": "code",
   "execution_count": 14,
   "metadata": {
    "ExecuteTime": {
     "end_time": "2016-04-15T15:38:39.480524",
     "start_time": "2016-04-15T15:38:39.464696"
    },
    "collapsed": true
   },
   "outputs": [],
   "source": [
    "import os"
   ]
  },
  {
   "cell_type": "code",
   "execution_count": 15,
   "metadata": {
    "ExecuteTime": {
     "end_time": "2016-04-15T15:40:01.053975",
     "start_time": "2016-04-15T15:40:01.037507"
    },
    "collapsed": false
   },
   "outputs": [],
   "source": [
    "gtfs_files = os.listdir('../data/1_gtfs')"
   ]
  },
  {
   "cell_type": "code",
   "execution_count": 26,
   "metadata": {
    "ExecuteTime": {
     "end_time": "2016-04-15T15:50:32.554124",
     "start_time": "2016-04-15T15:50:29.965004"
    },
    "collapsed": false
   },
   "outputs": [],
   "source": [
    "gtfs = {filename.split('.')[0]: pd.read_csv(\n",
    "        os.path.join('../data/1_gtfs', filename)) for filename in gtfs_files}"
   ]
  },
  {
   "cell_type": "code",
   "execution_count": 27,
   "metadata": {
    "ExecuteTime": {
     "end_time": "2016-04-15T15:50:32.622236",
     "start_time": "2016-04-15T15:50:32.555690"
    },
    "collapsed": false
   },
   "outputs": [
    {
     "name": "stdout",
     "output_type": "stream",
     "text": [
      "fare_rules\n",
      "----------\n",
      "   fare_id  route_id  origin_id  destination_id\n",
      "0      101  100001.0        NaN             NaN\n",
      "1      110  100001.0        NaN             NaN\n",
      "2      101  100002.0        NaN             NaN\n",
      "3      110  100002.0        NaN             NaN\n",
      "4      102  100003.0        NaN             NaN\n",
      "\n",
      "\n",
      "agency\n",
      "------\n",
      "  agency_id                agency_name  \\\n",
      "0         1              Metro Transit   \n",
      "1        23            City of Seattle   \n",
      "2        40              Sound Transit   \n",
      "3       KMD  Kingcounty Marine Divison   \n",
      "\n",
      "                                          agency_url      agency_timezone  \\\n",
      "0                        http://metro.kingcounty.gov  America/Los_Angeles   \n",
      "1                             http://www.seattle.gov  America/Los_Angeles   \n",
      "2                        http://www.soundtransit.org  America/Los_Angeles   \n",
      "3  http://www.kingcounty.gov/transportation/kcdot...  America/Los_Angeles   \n",
      "\n",
      "  agency_lang    agency_phone  \\\n",
      "0          EN    206-553-3000   \n",
      "1          EN    206-684-7623   \n",
      "2          EN  1-888-889-6368   \n",
      "3          EN    206-684-1515   \n",
      "\n",
      "                                     agency_fare_url  \n",
      "0  http://metro.kingcounty.gov/tops/bus/fare/fare...  \n",
      "1                   http://www.seattlestreetcar.org/  \n",
      "2   http://www.soundtransit.org/Fares-and-Passes.xml  \n",
      "3  http://www.kingcounty.gov/transportation/kcdot...  \n",
      "\n",
      "\n",
      "stop_times\n",
      "----------\n",
      "    trip_id  stop_id arrival_time departure_time  stop_sequence stop_headsign  \\\n",
      "0  18155895      450     06:45:15       06:45:15              2           NaN   \n",
      "1  18155895      480     06:48:14       06:48:14              7           NaN   \n",
      "2  18155895     1560     06:50:39       06:50:39             15           NaN   \n",
      "3  18155895     1570     06:51:40       06:51:40             19           NaN   \n",
      "4  18155895    12900     06:53:18       06:53:18             29           NaN   \n",
      "\n",
      "   shape_dist_traveled  fare_period_id  \n",
      "0                  0.0               1  \n",
      "1               1397.4               1  \n",
      "2               2521.4               1  \n",
      "3               3112.8               1  \n",
      "4               4068.2               1  \n",
      "\n",
      "\n",
      "stops\n",
      "-----\n",
      "   stop_id                 stop_name   stop_lat    stop_lon  zone_id  \\\n",
      "0    10000  NE 55th St & 43rd Ave NE  47.668575 -122.283653       21   \n",
      "1    10005  40th Ave NE & NE 51st St  47.665886 -122.284897       21   \n",
      "2    10010  NE 55th St & 39th Ave NE  47.668579 -122.285667       21   \n",
      "3    10020  NE 55th St & 37th Ave NE  47.668579 -122.288300       21   \n",
      "4    10030  NE 55th St & 35th Ave NE  47.668579 -122.290512       21   \n",
      "\n",
      "         stop_timezone  \n",
      "0  America/Los_Angeles  \n",
      "1  America/Los_Angeles  \n",
      "2  America/Los_Angeles  \n",
      "3  America/Los_Angeles  \n",
      "4  America/Los_Angeles  \n",
      "\n",
      "\n",
      "shapes\n",
      "------\n",
      "   shape_id  shape_pt_sequence  shape_pt_lat  shape_pt_lon  \\\n",
      "0  10002552                  2     47.612152   -122.281746   \n",
      "1  10002552                  3     47.612160   -122.281761   \n",
      "2  10002552                  4     47.612164   -122.281830   \n",
      "3  10002552                  5     47.612122   -122.281921   \n",
      "4  10002552                  6     47.612202   -122.282005   \n",
      "\n",
      "   shape_dist_traveled  \n",
      "0                  0.0  \n",
      "1                  0.0  \n",
      "2                 16.6  \n",
      "3                 45.2  \n",
      "4                 80.5  \n",
      "\n",
      "\n",
      "calendar_dates\n",
      "--------------\n",
      "   service_id      date  exception_type\n",
      "0       10403  20160328               2\n",
      "1       10403  20160404               2\n",
      "2       10403  20160411               2\n",
      "3       10403  20160418               2\n",
      "4       10403  20160425               2\n",
      "\n",
      "\n",
      "routes\n",
      "------\n",
      "  agency_id  route_id route_short_name route_long_name  route_type  \\\n",
      "0         1    100001                1             NaN           3   \n",
      "1         1    100002               10             NaN           3   \n",
      "2         1    100003              101             NaN           3   \n",
      "3         1    100004              105             NaN           3   \n",
      "4         1    100005              106             NaN           3   \n",
      "\n",
      "                                route_desc  \\\n",
      "0               Kinnear - Downtown Seattle   \n",
      "1          Capitol Hill - Downtown Seattle   \n",
      "2            Renton TC to Downtown Seattle   \n",
      "3               Renton Highlands to Renton   \n",
      "4  Renton TC to Skyway to Downtown Seattle   \n",
      "\n",
      "                                           route_url  \n",
      "0  http://metro.kingcounty.gov/schedules/001/n0.html  \n",
      "1  http://metro.kingcounty.gov/schedules/010/n0.html  \n",
      "2  http://metro.kingcounty.gov/schedules/101/n0.html  \n",
      "3  http://metro.kingcounty.gov/schedules/105/n0.html  \n",
      "4  http://metro.kingcounty.gov/schedules/106/n0.html  \n",
      "\n",
      "\n",
      "calendar\n",
      "--------\n",
      "   service_id  monday  tuesday  wednesday  thursday  friday  saturday  sunday  \\\n",
      "0       10155       1        1          1         1       1         0       0   \n",
      "1       10403       0        0          0         0       0         0       1   \n",
      "2       10660       0        0          0         0       0         1       0   \n",
      "3       11383       0        1          0         1       1         0       0   \n",
      "4       11492       1        1          0         1       0         0       0   \n",
      "\n",
      "   start_date  end_date  \n",
      "0    20160304  20160318  \n",
      "1    20160327  20160612  \n",
      "2    20160326  20160611  \n",
      "3    20160304  20160325  \n",
      "4    20160304  20160325  \n",
      "\n",
      "\n",
      "trips\n",
      "-----\n",
      "   route_id   trip_id  service_id trip_short_name  \\\n",
      "0    100173  18155895        2132           LOCAL   \n",
      "1    100173  18155899        2132           LOCAL   \n",
      "2    100173  18155902        2132           LOCAL   \n",
      "3    100173  18155906        2132           LOCAL   \n",
      "4    100173  18155908        2132           LOCAL   \n",
      "\n",
      "                          trip_headsign route_short_name  direction_id  \\\n",
      "0  MADRONA AND 34TH AVE VIA E CHERRY ST              NaN             0   \n",
      "1  MADRONA AND 34TH AVE VIA E CHERRY ST              NaN             0   \n",
      "2  MADRONA AND 34TH AVE VIA E CHERRY ST              NaN             0   \n",
      "3  MADRONA AND 34TH AVE VIA E CHERRY ST              NaN             0   \n",
      "4  MADRONA AND 34TH AVE VIA E CHERRY ST              NaN             0   \n",
      "\n",
      "   block_id  shape_id  fare_id  \n",
      "0   3992664  21003564      101  \n",
      "1   3992678  21003564      101  \n",
      "2   3992664  21003564      101  \n",
      "3   3992644  21003562      101  \n",
      "4   3992678  21003564      101  \n",
      "\n",
      "\n",
      "fare_attributes\n",
      "---------------\n",
      "   fare_id  fare_period_id  price currency_type  payment_method  transfers  \\\n",
      "0      100               1   0.00           USD               0        NaN   \n",
      "1      110               2   2.75           USD               0        NaN   \n",
      "2      102               1   2.50           USD               0        NaN   \n",
      "3      300               1   0.00           USD               0        0.0   \n",
      "4      101               1   2.50           USD               0        NaN   \n",
      "\n",
      "   transfer_duration  youth_price  senior_price  \n",
      "0               5400          0.0           0.0  \n",
      "1               5400          1.5           1.0  \n",
      "2               5400          1.5           1.0  \n",
      "3                  0          0.0           0.0  \n",
      "4               5400          1.5           1.0  \n",
      "\n",
      "\n"
     ]
    }
   ],
   "source": [
    "for table in gtfs_tables:\n",
    "    print(table + '\\n' + '-'*len(table))\n",
    "    print(gtfs[table].head())\n",
    "    print('\\n')"
   ]
  },
  {
   "cell_type": "code",
   "execution_count": 30,
   "metadata": {
    "ExecuteTime": {
     "end_time": "2016-04-15T16:42:21.879741",
     "start_time": "2016-04-15T16:42:21.799005"
    },
    "collapsed": false
   },
   "outputs": [
    {
     "data": {
      "text/plain": [
       "(52194, 10)"
      ]
     },
     "execution_count": 30,
     "metadata": {},
     "output_type": "execute_result"
    }
   ],
   "source": [
    "gtfs['trips'].shape"
   ]
  },
  {
   "cell_type": "code",
   "execution_count": null,
   "metadata": {
    "collapsed": true
   },
   "outputs": [],
   "source": []
  }
 ],
 "metadata": {
  "kernelspec": {
   "display_name": "Python 2",
   "language": "python",
   "name": "python2"
  },
  "language_info": {
   "codemirror_mode": {
    "name": "ipython",
    "version": 2
   },
   "file_extension": ".py",
   "mimetype": "text/x-python",
   "name": "python",
   "nbconvert_exporter": "python",
   "pygments_lexer": "ipython2",
   "version": "2.7.11"
  }
 },
 "nbformat": 4,
 "nbformat_minor": 0
}
