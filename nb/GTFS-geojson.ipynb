{
 "cells": [
  {
   "cell_type": "code",
   "execution_count": 1,
   "metadata": {
    "ExecuteTime": {
     "end_time": "2016-04-18T14:07:26.261279",
     "start_time": "2016-04-18T14:07:26.235309"
    },
    "collapsed": false
   },
   "outputs": [],
   "source": [
    "import psycopg2"
   ]
  },
  {
   "cell_type": "code",
   "execution_count": 2,
   "metadata": {
    "ExecuteTime": {
     "end_time": "2016-04-18T14:07:26.277367",
     "start_time": "2016-04-18T14:07:26.263165"
    },
    "collapsed": true
   },
   "outputs": [],
   "source": [
    "from src import ts_gtfs"
   ]
  },
  {
   "cell_type": "code",
   "execution_count": 3,
   "metadata": {
    "ExecuteTime": {
     "end_time": "2016-04-18T14:07:26.292068",
     "start_time": "2016-04-18T14:07:26.279104"
    },
    "collapsed": true
   },
   "outputs": [],
   "source": [
    "from datetime import datetime"
   ]
  },
  {
   "cell_type": "code",
   "execution_count": 4,
   "metadata": {
    "ExecuteTime": {
     "end_time": "2016-04-18T14:07:26.312490",
     "start_time": "2016-04-18T14:07:26.293632"
    },
    "collapsed": true
   },
   "outputs": [],
   "source": [
    "import geojson\n",
    "from geojson import Feature, Point, FeatureCollection"
   ]
  },
  {
   "cell_type": "code",
   "execution_count": 5,
   "metadata": {
    "ExecuteTime": {
     "end_time": "2016-04-18T14:07:26.340051",
     "start_time": "2016-04-18T14:07:26.314429"
    },
    "collapsed": false
   },
   "outputs": [],
   "source": [
    "conn = psycopg2.connect(\"dbname=gtfs user=ubuntu\")"
   ]
  },
  {
   "cell_type": "code",
   "execution_count": 6,
   "metadata": {
    "ExecuteTime": {
     "end_time": "2016-04-18T14:07:26.368382",
     "start_time": "2016-04-18T14:07:26.342167"
    },
    "collapsed": false
   },
   "outputs": [
    {
     "data": {
      "text/plain": [
       "datetime.datetime(2016, 4, 17, 13, 7, 50)"
      ]
     },
     "execution_count": 6,
     "metadata": {},
     "output_type": "execute_result"
    }
   ],
   "source": [
    "when=1460923670\n",
    "datetime.fromtimestamp(when)"
   ]
  },
  {
   "cell_type": "code",
   "execution_count": 7,
   "metadata": {
    "ExecuteTime": {
     "end_time": "2016-04-18T14:07:26.520107",
     "start_time": "2016-04-18T14:07:26.369830"
    },
    "collapsed": false
   },
   "outputs": [
    {
     "data": {
      "text/plain": [
       "281"
      ]
     },
     "execution_count": 7,
     "metadata": {},
     "output_type": "execute_result"
    }
   ],
   "source": [
    "vl = ts_gtfs.get_vehicle_locations(when=when, conn=conn)\n",
    "len(vl)"
   ]
  },
  {
   "cell_type": "code",
   "execution_count": 8,
   "metadata": {
    "ExecuteTime": {
     "end_time": "2016-04-18T14:07:26.535502",
     "start_time": "2016-04-18T14:07:26.521934"
    },
    "collapsed": true
   },
   "outputs": [],
   "source": []
  },
  {
   "cell_type": "code",
   "execution_count": 17,
   "metadata": {
    "ExecuteTime": {
     "end_time": "2016-04-18T14:11:09.851606",
     "start_time": "2016-04-18T14:11:09.837884"
    },
    "collapsed": false
   },
   "outputs": [
    {
     "name": "stdout",
     "output_type": "stream",
     "text": [
      "<cursor object at 0x1065a0338; closed: 0>\n"
     ]
    },
    {
     "data": {
      "text/plain": [
       "(1460923670L, 1459466581L)"
      ]
     },
     "execution_count": 17,
     "metadata": {},
     "output_type": "execute_result"
    }
   ],
   "source": [
    "with conn.cursor() as cur:\n",
    "    cur.execute(\"SELECT Max(timestamp), Min(timestamp) FROM vehicle_positions\")\n",
    "    result = cur.fetchone()\n",
    "    print cur\n",
    "result"
   ]
  },
  {
   "cell_type": "code",
   "execution_count": 18,
   "metadata": {
    "ExecuteTime": {
     "end_time": "2016-04-18T14:11:11.248643",
     "start_time": "2016-04-18T14:11:11.237098"
    },
    "collapsed": false
   },
   "outputs": [
    {
     "data": {
      "text/plain": [
       "<cursor object at 0x1065a0338; closed: -1>"
      ]
     },
     "execution_count": 18,
     "metadata": {},
     "output_type": "execute_result"
    }
   ],
   "source": [
    "cur.close()\n",
    "cur"
   ]
  },
  {
   "cell_type": "code",
   "execution_count": 10,
   "metadata": {
    "ExecuteTime": {
     "end_time": "2016-04-18T14:07:26.581788",
     "start_time": "2016-04-18T14:07:26.557606"
    },
    "collapsed": false
   },
   "outputs": [],
   "source": [
    "fc = FeatureCollection([Feature(geometry=Point((v[2], v[1])), id=v[0]) for v in vl])\n",
    "with open('../data/vl.geojson', 'w') as f_out:\n",
    "    f_out.write(geojson.dumps(fc))"
   ]
  },
  {
   "cell_type": "code",
   "execution_count": null,
   "metadata": {
    "collapsed": true
   },
   "outputs": [],
   "source": []
  }
 ],
 "metadata": {
  "kernelspec": {
   "display_name": "Python 2",
   "language": "python",
   "name": "python2"
  },
  "language_info": {
   "codemirror_mode": {
    "name": "ipython",
    "version": 2
   },
   "file_extension": ".py",
   "mimetype": "text/x-python",
   "name": "python",
   "nbconvert_exporter": "python",
   "pygments_lexer": "ipython2",
   "version": "2.7.11"
  }
 },
 "nbformat": 4,
 "nbformat_minor": 0
}
