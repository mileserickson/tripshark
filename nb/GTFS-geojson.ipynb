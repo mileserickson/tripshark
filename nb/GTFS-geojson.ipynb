{
 "cells": [
  {
   "cell_type": "code",
   "execution_count": 1,
   "metadata": {
    "ExecuteTime": {
     "end_time": "2016-04-27T10:04:51.053282",
     "start_time": "2016-04-27T10:04:51.033121"
    },
    "collapsed": false
   },
   "outputs": [],
   "source": [
    "import psycopg2"
   ]
  },
  {
   "cell_type": "code",
   "execution_count": 2,
   "metadata": {
    "ExecuteTime": {
     "end_time": "2016-04-27T10:04:51.448643",
     "start_time": "2016-04-27T10:04:51.432782"
    },
    "collapsed": true
   },
   "outputs": [],
   "source": [
    "from src.ts_gtfs import GTFS"
   ]
  },
  {
   "cell_type": "code",
   "execution_count": 3,
   "metadata": {
    "ExecuteTime": {
     "end_time": "2016-04-27T10:04:51.801459",
     "start_time": "2016-04-27T10:04:51.791458"
    },
    "collapsed": true
   },
   "outputs": [],
   "source": [
    "from datetime import datetime"
   ]
  },
  {
   "cell_type": "code",
   "execution_count": 4,
   "metadata": {
    "ExecuteTime": {
     "end_time": "2016-04-27T10:04:52.153462",
     "start_time": "2016-04-27T10:04:52.143362"
    },
    "collapsed": true
   },
   "outputs": [],
   "source": [
    "import geojson\n",
    "from geojson import Feature, Point, FeatureCollection"
   ]
  },
  {
   "cell_type": "code",
   "execution_count": 5,
   "metadata": {
    "ExecuteTime": {
     "end_time": "2016-04-27T10:04:52.645395",
     "start_time": "2016-04-27T10:04:52.632302"
    },
    "collapsed": false
   },
   "outputs": [],
   "source": [
    "conn = psycopg2.connect(\"dbname=gtfs user=ubuntu\")"
   ]
  },
  {
   "cell_type": "code",
   "execution_count": 6,
   "metadata": {
    "ExecuteTime": {
     "end_time": "2016-04-27T10:04:53.276233",
     "start_time": "2016-04-27T10:04:53.256131"
    },
    "collapsed": false
   },
   "outputs": [
    {
     "data": {
      "text/plain": [
       "datetime.datetime(2016, 4, 17, 13, 7, 50)"
      ]
     },
     "execution_count": 6,
     "metadata": {},
     "output_type": "execute_result"
    }
   ],
   "source": [
    "when=1460923670\n",
    "datetime.fromtimestamp(when)"
   ]
  },
  {
   "cell_type": "code",
   "execution_count": 7,
   "metadata": {
    "ExecuteTime": {
     "end_time": "2016-04-27T10:05:03.911751",
     "start_time": "2016-04-27T10:04:53.935991"
    },
    "collapsed": false
   },
   "outputs": [],
   "source": [
    "gtfs = GTFS()"
   ]
  },
  {
   "cell_type": "code",
   "execution_count": 8,
   "metadata": {
    "ExecuteTime": {
     "end_time": "2016-04-27T10:05:08.616942",
     "start_time": "2016-04-27T10:05:08.526594"
    },
    "collapsed": false
   },
   "outputs": [
    {
     "data": {
      "text/plain": [
       "281"
      ]
     },
     "execution_count": 8,
     "metadata": {},
     "output_type": "execute_result"
    }
   ],
   "source": [
    "vl = gtfs.get_vehicle_locations(when=when)\n",
    "len(vl)"
   ]
  },
  {
   "cell_type": "code",
   "execution_count": 16,
   "metadata": {
    "ExecuteTime": {
     "end_time": "2016-04-27T10:12:07.442067",
     "start_time": "2016-04-27T10:12:07.430617"
    },
    "collapsed": true
   },
   "outputs": [],
   "source": [
    "def get_timestamp(year, month, day):\n",
    "    \"\"\"Return a timestamp equal to midnight on the specified date.\"\"\"\n",
    "    return int(datetime(year, month, day).strftime(\"%s\"))"
   ]
  },
  {
   "cell_type": "code",
   "execution_count": 17,
   "metadata": {
    "ExecuteTime": {
     "end_time": "2016-04-27T10:12:11.442194",
     "start_time": "2016-04-27T10:12:08.406301"
    },
    "collapsed": false
   },
   "outputs": [],
   "source": [
    "pr = gtfs.get_position_reports(when=when)"
   ]
  },
  {
   "cell_type": "code",
   "execution_count": 18,
   "metadata": {
    "ExecuteTime": {
     "end_time": "2016-04-27T10:12:11.455376",
     "start_time": "2016-04-27T10:12:11.443760"
    },
    "collapsed": false
   },
   "outputs": [
    {
     "data": {
      "text/plain": [
       "124259"
      ]
     },
     "execution_count": 18,
     "metadata": {},
     "output_type": "execute_result"
    }
   ],
   "source": [
    "len(pr)"
   ]
  },
  {
   "cell_type": "code",
   "execution_count": 19,
   "metadata": {
    "ExecuteTime": {
     "end_time": "2016-04-27T10:12:11.468234",
     "start_time": "2016-04-27T10:12:11.456806"
    },
    "collapsed": false
   },
   "outputs": [
    {
     "data": {
      "text/plain": [
       "('6994', 47.7422676086426, -122.187782287598, 1460837300L)"
      ]
     },
     "execution_count": 19,
     "metadata": {},
     "output_type": "execute_result"
    }
   ],
   "source": [
    "# View one position report\n",
    "pr[0]"
   ]
  },
  {
   "cell_type": "code",
   "execution_count": 20,
   "metadata": {
    "ExecuteTime": {
     "end_time": "2016-04-27T10:12:13.224673",
     "start_time": "2016-04-27T10:12:13.197902"
    },
    "collapsed": false
   },
   "outputs": [
    {
     "data": {
      "text/plain": [
       "585"
      ]
     },
     "execution_count": 20,
     "metadata": {},
     "output_type": "execute_result"
    }
   ],
   "source": [
    "# Count unique vehicles represented in position reports\n",
    "len(set(r[0] for r in pr))"
   ]
  },
  {
   "cell_type": "code",
   "execution_count": 21,
   "metadata": {
    "ExecuteTime": {
     "end_time": "2016-04-27T10:14:24.149173",
     "start_time": "2016-04-27T10:14:21.475328"
    },
    "collapsed": true
   },
   "outputs": [],
   "source": [
    "# Output a full day of vehicle location data\n",
    "fn = '../webapp/static.tripshark.net/test/vl-fullday.geojson'\n",
    "fc = FeatureCollection([Feature(geometry=Point((v[2], v[1])), id=v[0], properties={'ts': v[3]}) for v in pr])\n",
    "with open(fn, 'w') as f_out:\n",
    "    f_out.write(geojson.dumps(fc))"
   ]
  },
  {
   "cell_type": "code",
   "execution_count": null,
   "metadata": {
    "ExecuteTime": {
     "end_time": "2016-04-18T22:06:23.207447",
     "start_time": "2016-04-18T22:06:23.137112"
    },
    "collapsed": true
   },
   "outputs": [],
   "source": [
    "def vpr_to_geojson(vpr, filename):\n",
    "    \"\"\"Output vehicle position reports to a GeoJSON file.\"\"\"\n",
    "    fc = FeatureCollection([Feature(geometry=Point((v[2], v[1])), id=v[0],\n",
    "                                    properties={'ts': v[3]}) for v in vpr])\n",
    "    with open(filename, 'w') as f_out:\n",
    "        f_out.write(geojson.dumps(fc))"
   ]
  },
  {
   "cell_type": "code",
   "execution_count": null,
   "metadata": {
    "ExecuteTime": {
     "end_time": "2016-04-19T14:11:57.758125",
     "start_time": "2016-04-19T14:11:57.746565"
    },
    "collapsed": false
   },
   "outputs": [],
   "source": [
    "with open('../src/get_trips_for_stop.sql', 'r') as f_in:\n",
    "    query_trips_for_stop = f_in.read()"
   ]
  },
  {
   "cell_type": "code",
   "execution_count": null,
   "metadata": {
    "ExecuteTime": {
     "end_time": "2016-04-19T14:14:18.953469",
     "start_time": "2016-04-19T14:14:18.941422"
    },
    "collapsed": true
   },
   "outputs": [],
   "source": [
    "def get_stops(conn=conn):\n",
    "    \"\"\"Return all stop locations.\n",
    "    \n",
    "    Parameters\n",
    "    ----------\n",
    "    conn : psycopg2.connection\n",
    "    \"\"\"\n",
    "    QUERY_STOPS = \"\"\"\n",
    "    SELECT\n",
    "        stop_id\n",
    "    ,   position_latitude AS lat\n",
    "    ,   position_longitude AS lon\n",
    "    FROM\n",
    "        stops\n",
    "    \"\"\"\n",
    "    with conn.cursor() as cur:\n",
    "        result = cur.fetchall()\n",
    "    \n",
    "    "
   ]
  },
  {
   "cell_type": "code",
   "execution_count": null,
   "metadata": {
    "ExecuteTime": {
     "end_time": "2016-04-19T21:28:46.960871",
     "start_time": "2016-04-19T21:28:46.882187"
    },
    "collapsed": false
   },
   "outputs": [],
   "source": [
    "from src.ts_gtfs import GTFS"
   ]
  },
  {
   "cell_type": "code",
   "execution_count": null,
   "metadata": {
    "ExecuteTime": {
     "end_time": "2016-04-19T21:28:47.337701",
     "start_time": "2016-04-19T21:28:47.327705"
    },
    "collapsed": true
   },
   "outputs": [],
   "source": [
    "gtfs = GTFS()"
   ]
  },
  {
   "cell_type": "code",
   "execution_count": null,
   "metadata": {
    "ExecuteTime": {
     "end_time": "2016-04-27T10:03:37.591778",
     "start_time": "2016-04-27T10:03:37.450731"
    },
    "collapsed": false
   },
   "outputs": [],
   "source": [
    "vl = gtfs.get_vehicle_locations()"
   ]
  },
  {
   "cell_type": "code",
   "execution_count": null,
   "metadata": {
    "ExecuteTime": {
     "end_time": "2016-04-19T21:28:49.644803",
     "start_time": "2016-04-19T21:28:49.632900"
    },
    "collapsed": false
   },
   "outputs": [],
   "source": [
    "vl"
   ]
  },
  {
   "cell_type": "code",
   "execution_count": null,
   "metadata": {
    "collapsed": true
   },
   "outputs": [],
   "source": []
  }
 ],
 "metadata": {
  "kernelspec": {
   "display_name": "Python 2",
   "language": "python",
   "name": "python2"
  },
  "language_info": {
   "codemirror_mode": {
    "name": "ipython",
    "version": 2
   },
   "file_extension": ".py",
   "mimetype": "text/x-python",
   "name": "python",
   "nbconvert_exporter": "python",
   "pygments_lexer": "ipython2",
   "version": "2.7.11"
  }
 },
 "nbformat": 4,
 "nbformat_minor": 0
}
