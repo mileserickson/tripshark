{
 "cells": [
  {
   "cell_type": "code",
   "execution_count": 1,
   "metadata": {
    "ExecuteTime": {
     "end_time": "2016-04-18T21:40:37.605927",
     "start_time": "2016-04-18T21:40:37.584576"
    },
    "collapsed": false
   },
   "outputs": [],
   "source": [
    "import psycopg2"
   ]
  },
  {
   "cell_type": "code",
   "execution_count": 2,
   "metadata": {
    "ExecuteTime": {
     "end_time": "2016-04-18T21:40:37.618825",
     "start_time": "2016-04-18T21:40:37.607470"
    },
    "collapsed": true
   },
   "outputs": [],
   "source": [
    "from src import ts_gtfs"
   ]
  },
  {
   "cell_type": "code",
   "execution_count": 3,
   "metadata": {
    "ExecuteTime": {
     "end_time": "2016-04-18T21:40:37.631008",
     "start_time": "2016-04-18T21:40:37.620354"
    },
    "collapsed": true
   },
   "outputs": [],
   "source": [
    "from datetime import datetime"
   ]
  },
  {
   "cell_type": "code",
   "execution_count": 4,
   "metadata": {
    "ExecuteTime": {
     "end_time": "2016-04-18T21:40:37.647324",
     "start_time": "2016-04-18T21:40:37.632580"
    },
    "collapsed": true
   },
   "outputs": [],
   "source": [
    "import geojson\n",
    "from geojson import Feature, Point, FeatureCollection"
   ]
  },
  {
   "cell_type": "code",
   "execution_count": 5,
   "metadata": {
    "ExecuteTime": {
     "end_time": "2016-04-18T21:40:37.665661",
     "start_time": "2016-04-18T21:40:37.648592"
    },
    "collapsed": false
   },
   "outputs": [],
   "source": [
    "conn = psycopg2.connect(\"dbname=gtfs user=ubuntu\")"
   ]
  },
  {
   "cell_type": "code",
   "execution_count": 6,
   "metadata": {
    "ExecuteTime": {
     "end_time": "2016-04-18T21:40:37.689866",
     "start_time": "2016-04-18T21:40:37.667842"
    },
    "collapsed": false
   },
   "outputs": [
    {
     "data": {
      "text/plain": [
       "datetime.datetime(2016, 4, 17, 13, 7, 50)"
      ]
     },
     "execution_count": 6,
     "metadata": {},
     "output_type": "execute_result"
    }
   ],
   "source": [
    "when=1460923670\n",
    "datetime.fromtimestamp(when)"
   ]
  },
  {
   "cell_type": "code",
   "execution_count": 7,
   "metadata": {
    "ExecuteTime": {
     "end_time": "2016-04-18T21:40:37.808654",
     "start_time": "2016-04-18T21:40:37.691799"
    },
    "collapsed": false
   },
   "outputs": [
    {
     "data": {
      "text/plain": [
       "281"
      ]
     },
     "execution_count": 7,
     "metadata": {},
     "output_type": "execute_result"
    }
   ],
   "source": [
    "vl = ts_gtfs.get_vehicle_locations(when=when, conn=conn)\n",
    "len(vl)"
   ]
  },
  {
   "cell_type": "code",
   "execution_count": null,
   "metadata": {
    "ExecuteTime": {
     "end_time": "2016-04-18T14:07:26.535502",
     "start_time": "2016-04-18T14:07:26.521934"
    },
    "collapsed": true
   },
   "outputs": [],
   "source": []
  },
  {
   "cell_type": "code",
   "execution_count": 8,
   "metadata": {
    "ExecuteTime": {
     "end_time": "2016-04-18T21:40:37.823610",
     "start_time": "2016-04-18T21:40:37.810165"
    },
    "collapsed": false
   },
   "outputs": [
    {
     "name": "stdout",
     "output_type": "stream",
     "text": [
      "<cursor object at 0x104608338; closed: 0>\n"
     ]
    },
    {
     "data": {
      "text/plain": [
       "(1460923670L, 1459466581L)"
      ]
     },
     "execution_count": 8,
     "metadata": {},
     "output_type": "execute_result"
    }
   ],
   "source": [
    "with conn.cursor() as cur:\n",
    "    cur.execute(\"SELECT Max(timestamp), Min(timestamp) FROM vehicle_positions\")\n",
    "    result = cur.fetchone()\n",
    "    print cur\n",
    "result"
   ]
  },
  {
   "cell_type": "code",
   "execution_count": 9,
   "metadata": {
    "ExecuteTime": {
     "end_time": "2016-04-18T21:40:37.836905",
     "start_time": "2016-04-18T21:40:37.824962"
    },
    "collapsed": false
   },
   "outputs": [
    {
     "data": {
      "text/plain": [
       "<cursor object at 0x104608338; closed: -1>"
      ]
     },
     "execution_count": 9,
     "metadata": {},
     "output_type": "execute_result"
    }
   ],
   "source": [
    "cur.close()\n",
    "cur"
   ]
  },
  {
   "cell_type": "code",
   "execution_count": 10,
   "metadata": {
    "ExecuteTime": {
     "end_time": "2016-04-18T21:40:37.859697",
     "start_time": "2016-04-18T21:40:37.838780"
    },
    "collapsed": false
   },
   "outputs": [],
   "source": [
    "fc = FeatureCollection([Feature(geometry=Point((v[2], v[1])), id=v[0]) for v in vl])\n",
    "with open('../data/vl.geojson', 'w') as f_out:\n",
    "    f_out.write(geojson.dumps(fc))"
   ]
  },
  {
   "cell_type": "code",
   "execution_count": 11,
   "metadata": {
    "ExecuteTime": {
     "end_time": "2016-04-18T21:40:37.870882",
     "start_time": "2016-04-18T21:40:37.861070"
    },
    "collapsed": false
   },
   "outputs": [],
   "source": [
    "dt = datetime.fromtimestamp(1460923670)"
   ]
  },
  {
   "cell_type": "code",
   "execution_count": 12,
   "metadata": {
    "ExecuteTime": {
     "end_time": "2016-04-18T21:40:37.886426",
     "start_time": "2016-04-18T21:40:37.872372"
    },
    "collapsed": false
   },
   "outputs": [
    {
     "data": {
      "text/plain": [
       "'1460923670'"
      ]
     },
     "execution_count": 12,
     "metadata": {},
     "output_type": "execute_result"
    }
   ],
   "source": [
    "dt.strftime(\"%s\")"
   ]
  },
  {
   "cell_type": "code",
   "execution_count": 13,
   "metadata": {
    "ExecuteTime": {
     "end_time": "2016-04-18T21:40:37.903499",
     "start_time": "2016-04-18T21:40:37.888050"
    },
    "collapsed": false
   },
   "outputs": [
    {
     "data": {
      "text/plain": [
       "datetime.datetime(2016, 4, 17, 13, 7, 50)"
      ]
     },
     "execution_count": 13,
     "metadata": {},
     "output_type": "execute_result"
    }
   ],
   "source": [
    "dt"
   ]
  },
  {
   "cell_type": "code",
   "execution_count": 14,
   "metadata": {
    "ExecuteTime": {
     "end_time": "2016-04-18T21:40:37.920665",
     "start_time": "2016-04-18T21:40:37.904931"
    },
    "collapsed": false
   },
   "outputs": [
    {
     "data": {
      "text/plain": [
       "datetime.datetime(2016, 4, 17, 0, 0)"
      ]
     },
     "execution_count": 14,
     "metadata": {},
     "output_type": "execute_result"
    }
   ],
   "source": [
    "datetime.strptime('2016-04-17', '%Y-%m-%d')"
   ]
  },
  {
   "cell_type": "code",
   "execution_count": 15,
   "metadata": {
    "ExecuteTime": {
     "end_time": "2016-04-18T21:40:37.938436",
     "start_time": "2016-04-18T21:40:37.922389"
    },
    "collapsed": false
   },
   "outputs": [
    {
     "data": {
      "text/plain": [
       "datetime.datetime(2016, 4, 17, 0, 0)"
      ]
     },
     "execution_count": 15,
     "metadata": {},
     "output_type": "execute_result"
    }
   ],
   "source": [
    "datetime(2016, 4, 17)"
   ]
  },
  {
   "cell_type": "code",
   "execution_count": 16,
   "metadata": {
    "ExecuteTime": {
     "end_time": "2016-04-18T21:40:37.951440",
     "start_time": "2016-04-18T21:40:37.939982"
    },
    "collapsed": true
   },
   "outputs": [],
   "source": [
    "def get_timestamp(year, month, day):\n",
    "    \"\"\"Return a timestamp equal to midnight on the specified date.\"\"\"\n",
    "    return int(datetime(year, month, day).strftime(\"%s\"))"
   ]
  },
  {
   "cell_type": "code",
   "execution_count": 17,
   "metadata": {
    "ExecuteTime": {
     "end_time": "2016-04-18T21:40:37.967767",
     "start_time": "2016-04-18T21:40:37.952937"
    },
    "collapsed": false
   },
   "outputs": [
    {
     "data": {
      "text/plain": [
       "1460790000"
      ]
     },
     "execution_count": 17,
     "metadata": {},
     "output_type": "execute_result"
    }
   ],
   "source": [
    "get_timestamp(2016, 4, 16)"
   ]
  },
  {
   "cell_type": "code",
   "execution_count": 18,
   "metadata": {
    "ExecuteTime": {
     "end_time": "2016-04-18T21:40:37.988202",
     "start_time": "2016-04-18T21:40:37.970487"
    },
    "collapsed": false
   },
   "outputs": [
    {
     "data": {
      "text/plain": [
       "86400"
      ]
     },
     "execution_count": 18,
     "metadata": {},
     "output_type": "execute_result"
    }
   ],
   "source": [
    "get_timestamp(2016, 4, 17) - get_timestamp(2016, 4, 16)"
   ]
  },
  {
   "cell_type": "code",
   "execution_count": 22,
   "metadata": {
    "ExecuteTime": {
     "end_time": "2016-04-18T21:41:54.486144",
     "start_time": "2016-04-18T21:41:51.186463"
    },
    "collapsed": false
   },
   "outputs": [],
   "source": [
    "pr = ts_gtfs.get_position_reports(when=1460923670, conn=conn)"
   ]
  },
  {
   "cell_type": "code",
   "execution_count": 23,
   "metadata": {
    "ExecuteTime": {
     "end_time": "2016-04-18T21:41:55.910101",
     "start_time": "2016-04-18T21:41:55.898494"
    },
    "collapsed": false
   },
   "outputs": [
    {
     "data": {
      "text/plain": [
       "124259"
      ]
     },
     "execution_count": 23,
     "metadata": {},
     "output_type": "execute_result"
    }
   ],
   "source": [
    "len(pr)"
   ]
  },
  {
   "cell_type": "code",
   "execution_count": 24,
   "metadata": {
    "ExecuteTime": {
     "end_time": "2016-04-18T21:42:19.647808",
     "start_time": "2016-04-18T21:42:19.635839"
    },
    "collapsed": false
   },
   "outputs": [
    {
     "data": {
      "text/plain": [
       "('6994', 47.7422676086426, -122.187782287598, 1460837300L)"
      ]
     },
     "execution_count": 24,
     "metadata": {},
     "output_type": "execute_result"
    }
   ],
   "source": [
    "pr[0]"
   ]
  },
  {
   "cell_type": "code",
   "execution_count": 26,
   "metadata": {
    "ExecuteTime": {
     "end_time": "2016-04-18T21:42:55.305258",
     "start_time": "2016-04-18T21:42:55.280191"
    },
    "collapsed": false
   },
   "outputs": [
    {
     "data": {
      "text/plain": [
       "585"
      ]
     },
     "execution_count": 26,
     "metadata": {},
     "output_type": "execute_result"
    }
   ],
   "source": [
    "len(set(r[0] for r in pr))"
   ]
  },
  {
   "cell_type": "code",
   "execution_count": 28,
   "metadata": {
    "ExecuteTime": {
     "end_time": "2016-04-18T21:44:48.453695",
     "start_time": "2016-04-18T21:44:45.500021"
    },
    "collapsed": true
   },
   "outputs": [],
   "source": [
    "fn = '../webapp/static.tripshark.net/test/vl-fullday.geojson'\n",
    "fc = FeatureCollection([Feature(geometry=Point((v[2], v[1])), id=v[0], properties={'ts': v[3]}) for v in pr])\n",
    "with open(fn, 'w') as f_out:\n",
    "    f_out.write(geojson.dumps(fc))"
   ]
  },
  {
   "cell_type": "code",
   "execution_count": 31,
   "metadata": {
    "ExecuteTime": {
     "end_time": "2016-04-18T22:06:23.207447",
     "start_time": "2016-04-18T22:06:23.137112"
    },
    "collapsed": true
   },
   "outputs": [],
   "source": [
    "def vpr_to_geojson(vpr, filename):\n",
    "    \"\"\"Output vehicle position reports to a GeoJSON file.\"\"\"\n",
    "    fc = FeatureCollection([Feature(geometry=Point((v[2], v[1])), id=v[0],\n",
    "                                    properties={'ts': v[3]}) for v in vpr])\n",
    "    with open(filename, 'w') as f_out:\n",
    "        f_out.write(geojson.dumps(fc))"
   ]
  },
  {
   "cell_type": "code",
   "execution_count": 34,
   "metadata": {
    "ExecuteTime": {
     "end_time": "2016-04-19T13:53:38.719297",
     "start_time": "2016-04-19T13:53:38.700280"
    },
    "collapsed": false
   },
   "outputs": [
    {
     "ename": "IOError",
     "evalue": "[Errno 2] No such file or directory: '../src/get_trips_for_stop.sql'",
     "output_type": "error",
     "traceback": [
      "\u001b[0;31m---------------------------------------------------------------------------\u001b[0m",
      "\u001b[0;31mIOError\u001b[0m                                   Traceback (most recent call last)",
      "\u001b[0;32m<ipython-input-34-13c4303787f7>\u001b[0m in \u001b[0;36m<module>\u001b[0;34m()\u001b[0m\n\u001b[0;32m----> 1\u001b[0;31m \u001b[0;32mwith\u001b[0m \u001b[0mopen\u001b[0m\u001b[0;34m(\u001b[0m\u001b[0;34m'../src/get_trips_for_stop.sql'\u001b[0m\u001b[0;34m,\u001b[0m \u001b[0;34m'r'\u001b[0m\u001b[0;34m)\u001b[0m \u001b[0;32mas\u001b[0m \u001b[0mf_in\u001b[0m\u001b[0;34m:\u001b[0m\u001b[0;34m\u001b[0m\u001b[0m\n\u001b[0m\u001b[1;32m      2\u001b[0m     \u001b[0mquery_trips_for_stop\u001b[0m \u001b[0;34m=\u001b[0m \u001b[0mf_in\u001b[0m\u001b[0;34m.\u001b[0m\u001b[0mread\u001b[0m\u001b[0;34m(\u001b[0m\u001b[0;34m)\u001b[0m\u001b[0;34m\u001b[0m\u001b[0m\n",
      "\u001b[0;31mIOError\u001b[0m: [Errno 2] No such file or directory: '../src/get_trips_for_stop.sql'"
     ]
    }
   ],
   "source": [
    "with open('../src/get_trips_for_stop.sql', 'r') as f_in:\n",
    "    query_trips_for_stop = f_in.read()"
   ]
  },
  {
   "cell_type": "code",
   "execution_count": 33,
   "metadata": {
    "ExecuteTime": {
     "end_time": "2016-04-19T13:53:18.929680",
     "start_time": "2016-04-19T13:53:18.796828"
    },
    "collapsed": false
   },
   "outputs": [
    {
     "name": "stdout",
     "output_type": "stream",
     "text": [
      "/Users/miles/proj/tripshark/nb\r\n"
     ]
    }
   ],
   "source": [
    "!pwd"
   ]
  },
  {
   "cell_type": "code",
   "execution_count": null,
   "metadata": {
    "collapsed": true
   },
   "outputs": [],
   "source": []
  }
 ],
 "metadata": {
  "kernelspec": {
   "display_name": "Python 2",
   "language": "python",
   "name": "python2"
  },
  "language_info": {
   "codemirror_mode": {
    "name": "ipython",
    "version": 2
   },
   "file_extension": ".py",
   "mimetype": "text/x-python",
   "name": "python",
   "nbconvert_exporter": "python",
   "pygments_lexer": "ipython2",
   "version": "2.7.11"
  }
 },
 "nbformat": 4,
 "nbformat_minor": 0
}
